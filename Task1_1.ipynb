{
  "nbformat": 4,
  "nbformat_minor": 0,
  "metadata": {
    "colab": {
      "provenance": []
    },
    "kernelspec": {
      "name": "python3",
      "display_name": "Python 3"
    },
    "language_info": {
      "name": "python"
    }
  },
  "cells": [
    {
      "cell_type": "markdown",
      "source": [],
      "metadata": {
        "id": "QdJvgIDgwTl0"
      }
    },
    {
      "cell_type": "code",
      "execution_count": 19,
      "metadata": {
        "id": "jgyt2slhKuz7"
      },
      "outputs": [],
      "source": [
        "from itertools import combinations"
      ]
    },
    {
      "cell_type": "code",
      "source": [
        "artists = {\n",
        "    'Kevin' : {\"Hasley\",\"Taylor Swift\",\"Mitski\",\"Joji\",\"Shwan Mandes\",\"Sabrina Carpenter\",\"Nicky Minaj\",\"Conan Grey\",\"One Direction\",\"Justin Bieber\"},\n",
        "    'Stuart' : {\"Kendrick Lamar\",\"Steve Lacy\",\"Tyler the Creator\",\"Joji\",\"TheWeeknd\",\"Coldplay\",\"Kanye West\",\"Travis Scott\",\"Frank Ocean\",\"Brent Faiyaz\"},\n",
        "    'Bob' : {\"Conan Grey\",\"Joji\",\"Dove Cameron\",\"Mitski\",\"Artic Monkeys\",\"Steve Lacy\",\"Kendrick Lamar\",\"Isabel LaRosa\",\"shwan Mendes\",\"Coldplay\"},\n",
        "    'Edith' : {\"Metallica\",\"Billie Eilish\",\"TheWeeknd\",\"Mitsi\",\"NF\",\"Conan Gray\",\"Kendrick Lamar\",\"Nicky Mina\",\"Kanye West\",\"Coldplay\"},\n",
        "}"
      ],
      "metadata": {
        "id": "-cnVmI5lLLmd"
      },
      "execution_count": 20,
      "outputs": []
    },
    {
      "cell_type": "code",
      "source": [
        "def calculate_overlap(set1, set2):\n",
        "  common_artist =set1.intersection(set2)\n",
        "  if not set1 or not set2:\n",
        "    return 0\n",
        "  percentage1 = len(common_artist)/len(set1)\n",
        "  percentage2 = len(common_artist)/len(set2)\n",
        "  return min(percentage1 , percentage2)"
      ],
      "metadata": {
        "id": "ib7ZmLJWdBYD"
      },
      "execution_count": 22,
      "outputs": []
    },
    {
      "cell_type": "code",
      "source": [
        "def find_valid_djpairs(dj_artists):\n",
        "  dj_name = list(dj_artists.keys())\n",
        "  valid_pairs = []\n",
        "  for dj1, dj2 in combinations(dj_name, 2):\n",
        "    artists1 = dj_artists[dj1]\n",
        "    artists2 = dj_artists[dj2]\n",
        "    overlappercentage = calculate_overlap(artists1, artists2)\n",
        "    if overlappercentage >= 0.30:\n",
        "      valid_pairs.append(((dj1, dj2), overlappercentage))\n",
        "  return sorted(valid_pairs, key=lambda x: x[1], reverse=True)\n",
        "valid_djpairs = find_valid_djpairs(artists)\n",
        "for(dj1, dj2), percentage in valid_djpairs:\n",
        "  print(f\"Pair: ({dj1}, {dj2}) - Overlap Percentage: {percentage:.2%}\")"
      ],
      "metadata": {
        "colab": {
          "base_uri": "https://localhost:8080/"
        },
        "id": "F63EbbHQewyD",
        "outputId": "864ed008-272a-4046-8a53-797dde156d64"
      },
      "execution_count": 29,
      "outputs": [
        {
          "output_type": "stream",
          "name": "stdout",
          "text": [
            "Pair: (Stuart, Bob) - Overlap Percentage: 40.00%\n",
            "Pair: (Stuart, Edith) - Overlap Percentage: 40.00%\n",
            "Pair: (Kevin, Bob) - Overlap Percentage: 30.00%\n"
          ]
        }
      ]
    },
    {
      "cell_type": "code",
      "source": [
        ""
      ],
      "metadata": {
        "id": "q6eE0p3xmllB"
      },
      "execution_count": 29,
      "outputs": []
    },
    {
      "cell_type": "code",
      "source": [],
      "metadata": {
        "id": "Wi9DJsFBoGmE"
      },
      "execution_count": null,
      "outputs": []
    }
  ]
}