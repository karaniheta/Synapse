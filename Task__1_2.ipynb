{
  "nbformat": 4,
  "nbformat_minor": 0,
  "metadata": {
    "colab": {
      "provenance": []
    },
    "kernelspec": {
      "name": "python3",
      "display_name": "Python 3"
    },
    "language_info": {
      "name": "python"
    }
  },
  "cells": [
    {
      "cell_type": "code",
      "execution_count": null,
      "metadata": {
        "id": "W-QU286nbYau"
      },
      "outputs": [],
      "source": []
    },
    {
      "cell_type": "code",
      "source": [
        "gadgets = [\n",
        "    (\"Explosive\", 3, True),\n",
        "    (\"Batarangs\", 5, True),\n",
        "    (\"Smoke Pellets\", 0, False),\n",
        "    (\"Tear Gas Grenades\", 2, True),\n",
        "    (\"Night Vision Goggles\", 1, True),\n",
        "    (\"Batclaw\", 0, False),\n",
        "    (\"Grapple Gun\", 3,True),\n",
        "    (\"Batsignal\", 0, False),\n",
        "    (\"Utility Belt\", 1, True),\n",
        "    (\"Batmobile Tires\", 4, True)\n",
        "]"
      ],
      "metadata": {
        "id": "ajaFEd55bjlN"
      },
      "execution_count": 10,
      "outputs": []
    },
    {
      "cell_type": "code",
      "source": [
        "gadgets.sort(key=lambda x: x[2], reverse=True)\n",
        "print(gadgets)\n"
      ],
      "metadata": {
        "colab": {
          "base_uri": "https://localhost:8080/"
        },
        "id": "weBfaqUUhd6j",
        "outputId": "4ade2f3c-b443-4b64-c645-02faf23215c4"
      },
      "execution_count": 11,
      "outputs": [
        {
          "output_type": "stream",
          "name": "stdout",
          "text": [
            "[('Explosive', 3, True), ('Batarangs', 5, True), ('Tear Gas Grenades', 2, True), ('Night Vision Goggles', 1, True), ('Grapple Gun', 3, True), ('Utility Belt', 1, True), ('Batmobile Tires', 4, True), ('Smoke Pellets', 0, False), ('Batclaw', 0, False), ('Batsignal', 0, False)]\n"
          ]
        }
      ]
    },
    {
      "cell_type": "code",
      "source": [
        "gadgets.sort(key=lambda x: x[1], reverse=True)\n",
        "print(gadgets)"
      ],
      "metadata": {
        "colab": {
          "base_uri": "https://localhost:8080/"
        },
        "id": "CYwKrQzNbizK",
        "outputId": "d87127e0-14db-4453-dba2-1b0d8fda027e"
      },
      "execution_count": 12,
      "outputs": [
        {
          "output_type": "stream",
          "name": "stdout",
          "text": [
            "[('Batarangs', 5, True), ('Batmobile Tires', 4, True), ('Explosive', 3, True), ('Grapple Gun', 3, True), ('Tear Gas Grenades', 2, True), ('Night Vision Goggles', 1, True), ('Utility Belt', 1, True), ('Smoke Pellets', 0, False), ('Batclaw', 0, False), ('Batsignal', 0, False)]\n"
          ]
        }
      ]
    },
    {
      "cell_type": "code",
      "source": [
        "gadgets[:7]"
      ],
      "metadata": {
        "colab": {
          "base_uri": "https://localhost:8080/"
        },
        "id": "18f2z8BvfkmF",
        "outputId": "e999b5b5-0f9c-4456-d2ed-ace2712285a8"
      },
      "execution_count": 14,
      "outputs": [
        {
          "output_type": "execute_result",
          "data": {
            "text/plain": [
              "[('Batarangs', 5, True),\n",
              " ('Batmobile Tires', 4, True),\n",
              " ('Explosive', 3, True),\n",
              " ('Grapple Gun', 3, True),\n",
              " ('Tear Gas Grenades', 2, True),\n",
              " ('Night Vision Goggles', 1, True),\n",
              " ('Utility Belt', 1, True)]"
            ]
          },
          "metadata": {},
          "execution_count": 14
        }
      ]
    },
    {
      "cell_type": "code",
      "source": [
        "gadgets.sort(key=lambda x: x[0])\n",
        "print(gadgets)"
      ],
      "metadata": {
        "colab": {
          "base_uri": "https://localhost:8080/"
        },
        "id": "vG-r7qXkgecW",
        "outputId": "66d2d5c0-aa69-4ceb-fe53-e8180a745461"
      },
      "execution_count": 18,
      "outputs": [
        {
          "output_type": "stream",
          "name": "stdout",
          "text": [
            "[('Batarangs', 5, True), ('Batclaw', 0, False), ('Batmobile Tires', 4, True), ('Batsignal', 0, False), ('Explosive', 3, True), ('Grapple Gun', 3, True), ('Night Vision Goggles', 1, True), ('Smoke Pellets', 0, False), ('Tear Gas Grenades', 2, True), ('Utility Belt', 1, True)]\n"
          ]
        }
      ]
    },
    {
      "cell_type": "code",
      "source": [],
      "metadata": {
        "id": "OCybeHjvhEMj"
      },
      "execution_count": null,
      "outputs": []
    }
  ]
}